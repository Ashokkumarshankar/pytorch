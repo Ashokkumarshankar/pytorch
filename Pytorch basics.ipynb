{
 "cells": [
  {
   "cell_type": "code",
   "execution_count": 1,
   "id": "965c575c",
   "metadata": {},
   "outputs": [],
   "source": [
    "import torch\n",
    "import os\n",
    "from torch.utils.data import DataLoader\n",
    "from torchvision import datasets,transforms\n",
    "from torch import nn"
   ]
  },
  {
   "cell_type": "code",
   "execution_count": 90,
   "id": "6d00a50c",
   "metadata": {},
   "outputs": [],
   "source": [
    "import matplotlib.pyplot as plt\n",
    "from sklearn.preprocessing import MinMaxScaler\n",
    "from sklearn.metrics import mean_squared_error,r2_score\n",
    "from sklearn.model_selection import train_test_split\n",
    "from sklearn.datasets import load_iris"
   ]
  },
  {
   "cell_type": "code",
   "execution_count": 91,
   "id": "94dc894f",
   "metadata": {},
   "outputs": [],
   "source": [
    "dataset=load_iris()\n"
   ]
  },
  {
   "cell_type": "code",
   "execution_count": 92,
   "id": "b550f810",
   "metadata": {},
   "outputs": [],
   "source": [
    "import pandas as pd\n",
    "df=pd.DataFrame(dataset.data, columns=dataset.feature_names)"
   ]
  },
  {
   "cell_type": "code",
   "execution_count": 108,
   "id": "6ea3cf0e",
   "metadata": {},
   "outputs": [],
   "source": [
    "X=df.copy()\n",
    "y=dataset['target']"
   ]
  },
  {
   "cell_type": "code",
   "execution_count": 112,
   "id": "c1cbdc2e",
   "metadata": {},
   "outputs": [],
   "source": [
    "X_train,X_test,y_train,y_test=train_test_split(X,y,test_size=0.33,random_state=42)\n"
   ]
  },
  {
   "cell_type": "code",
   "execution_count": null,
   "id": "0961be89",
   "metadata": {},
   "outputs": [],
   "source": []
  },
  {
   "cell_type": "code",
   "execution_count": null,
   "id": "81dcf68f",
   "metadata": {},
   "outputs": [],
   "source": []
  },
  {
   "cell_type": "code",
   "execution_count": null,
   "id": "8f833782",
   "metadata": {},
   "outputs": [],
   "source": []
  },
  {
   "cell_type": "code",
   "execution_count": null,
   "id": "af431283",
   "metadata": {},
   "outputs": [],
   "source": []
  },
  {
   "cell_type": "code",
   "execution_count": null,
   "id": "20f6a582",
   "metadata": {},
   "outputs": [],
   "source": []
  },
  {
   "cell_type": "code",
   "execution_count": 2,
   "id": "5e1a726c",
   "metadata": {},
   "outputs": [
    {
     "name": "stdout",
     "output_type": "stream",
     "text": [
      "No cuda\n"
     ]
    }
   ],
   "source": [
    "if torch.cuda.is_available():\n",
    "    print('Yes')\n",
    "else:\n",
    "    print('No cuda')"
   ]
  },
  {
   "cell_type": "code",
   "execution_count": 28,
   "id": "42d1cbc8",
   "metadata": {},
   "outputs": [],
   "source": [
    "class layers:\n",
    "    def __init__(self):\n",
    "        self.input=None\n",
    "        self.output=None\n",
    "    def fp(self,input):\n",
    "        return ('okay')\n",
    "        raise NotImplementedError\n",
    "    def bp(self,output):\n",
    "        raise NotImplementedError\n",
    "        "
   ]
  },
  {
   "cell_type": "code",
   "execution_count": 9,
   "id": "36a7eeb9",
   "metadata": {},
   "outputs": [
    {
     "data": {
      "text/plain": [
       "__main__.layers"
      ]
     },
     "execution_count": 9,
     "metadata": {},
     "output_type": "execute_result"
    }
   ],
   "source": [
    "layers"
   ]
  },
  {
   "cell_type": "code",
   "execution_count": 19,
   "id": "92d45a62",
   "metadata": {},
   "outputs": [
    {
     "data": {
      "text/plain": [
       "'okay'"
      ]
     },
     "execution_count": 19,
     "metadata": {},
     "output_type": "execute_result"
    }
   ],
   "source": [
    "layers.fp(1,1)"
   ]
  },
  {
   "cell_type": "code",
   "execution_count": 27,
   "id": "e96436ea",
   "metadata": {},
   "outputs": [
    {
     "data": {
      "text/plain": [
       "torch.Tensor"
      ]
     },
     "execution_count": 27,
     "metadata": {},
     "output_type": "execute_result"
    }
   ],
   "source": [
    "type(torch.zeros(2).float())"
   ]
  },
  {
   "cell_type": "code",
   "execution_count": 26,
   "id": "8ac35a3b",
   "metadata": {},
   "outputs": [
    {
     "data": {
      "text/plain": [
       "torch.Tensor"
      ]
     },
     "execution_count": 26,
     "metadata": {},
     "output_type": "execute_result"
    }
   ],
   "source": [
    "type(torch.zeros(2))"
   ]
  },
  {
   "cell_type": "code",
   "execution_count": 29,
   "id": "6c2609de",
   "metadata": {},
   "outputs": [],
   "source": [
    "class NeuralNetwork(nn.Module):\n",
    "    def __init__(self):\n",
    "        super(NeuralNetwork,self).__init__()"
   ]
  },
  {
   "cell_type": "code",
   "execution_count": 31,
   "id": "c82501d0",
   "metadata": {},
   "outputs": [
    {
     "data": {
      "text/plain": [
       "NeuralNetwork()"
      ]
     },
     "execution_count": 31,
     "metadata": {},
     "output_type": "execute_result"
    }
   ],
   "source": [
    "NeuralNetwork()"
   ]
  },
  {
   "cell_type": "code",
   "execution_count": 40,
   "id": "c12d441c",
   "metadata": {},
   "outputs": [],
   "source": [
    "import numpy as np\n",
    "k=np.array([[[2,3],[3,5]]])\n",
    "t=torch.tensor(k)"
   ]
  },
  {
   "cell_type": "code",
   "execution_count": 41,
   "id": "715cafd0",
   "metadata": {},
   "outputs": [
    {
     "data": {
      "text/plain": [
       "(1, 2, 2)"
      ]
     },
     "execution_count": 41,
     "metadata": {},
     "output_type": "execute_result"
    }
   ],
   "source": [
    "k.shape"
   ]
  },
  {
   "cell_type": "code",
   "execution_count": 42,
   "id": "533ecd03",
   "metadata": {},
   "outputs": [
    {
     "data": {
      "text/plain": [
       "array([[0.77427484, 0.14145711, 0.14029485, 0.78598996],\n",
       "       [0.96905958, 0.63391357, 0.83279313, 0.93504674]])"
      ]
     },
     "execution_count": 42,
     "metadata": {},
     "output_type": "execute_result"
    }
   ],
   "source": [
    "np.random.rand(k.shape[1],4) "
   ]
  },
  {
   "cell_type": "code",
   "execution_count": 45,
   "id": "57baaea2",
   "metadata": {},
   "outputs": [
    {
     "data": {
      "text/plain": [
       "array([[0.50087788],\n",
       "       [0.95871654],\n",
       "       [0.28089471],\n",
       "       [0.10227803]])"
      ]
     },
     "execution_count": 45,
     "metadata": {},
     "output_type": "execute_result"
    }
   ],
   "source": [
    "np.random.rand(4,1)   "
   ]
  },
  {
   "cell_type": "code",
   "execution_count": 53,
   "id": "18b83dcb",
   "metadata": {},
   "outputs": [],
   "source": [
    "#NN from scratcg\n",
    "\n",
    "class NeuralNetwork:\n",
    "    def __init__(self,x,y):\n",
    "        self.input=x\n",
    "        self.y=y\n",
    "        self.output=np.zeros(y.shape)\n",
    "        self.weights1=np.random.rand(self.input.shape[1],4)\n",
    "        self.weights2=np.random.rand(4,1)\n",
    "        "
   ]
  },
  {
   "cell_type": "code",
   "execution_count": 116,
   "id": "e32a7959",
   "metadata": {},
   "outputs": [],
   "source": [
    "def sigmoid(x):\n",
    "    return (np.exp(x)/(1-np.exp(1)))\n",
    "\n",
    "def sigmoid_derivative(x):\n",
    "    return sigmoid(x)*(1-sigmoid(x))"
   ]
  },
  {
   "cell_type": "code",
   "execution_count": 128,
   "id": "b346651b",
   "metadata": {},
   "outputs": [
    {
     "data": {
      "text/plain": [
       "-2.4474148232535976e+86"
      ]
     },
     "execution_count": 128,
     "metadata": {},
     "output_type": "execute_result"
    }
   ],
   "source": [
    "sigmoid_derivative(100)"
   ]
  },
  {
   "cell_type": "code",
   "execution_count": 147,
   "id": "bca7c35d",
   "metadata": {},
   "outputs": [],
   "source": [
    "def feedforward_function(x,w1,w2,predict=False):\n",
    "    a1=np.matmul(x,w1)\n",
    "    z1=sigmoid(a1)\n",
    "    #bias\n",
    "    bias=np.ones(len(z1),1)\n",
    "    z1=np.concatenate((bias,z1),axis=1)\n",
    "    a2=np.matmul(z1,w2)\n",
    "    z2=sigmoid(a2)\n",
    "    if predict:\n",
    "        return z2\n",
    "    return a1,z1,a2,z2"
   ]
  },
  {
   "cell_type": "code",
   "execution_count": 146,
   "id": "a073a3b4",
   "metadata": {},
   "outputs": [],
   "source": [
    "def backpropagation(a2,z0,z1,z2,y):\n",
    "    delta2=z2-y\n",
    "    Delta2=np.matmul(z1.T,delta2)\n",
    "    delta1=(delta2.dot(w2[1:,:].T))*sigmoid(a1)\n",
    "    Delta1=np.matmul(z0.T,delta1)\n",
    "    return delta2,Delta1,Delta2"
   ]
  },
  {
   "cell_type": "code",
   "execution_count": 149,
   "id": "bbaac58b",
   "metadata": {},
   "outputs": [],
   "source": [
    "X=np.array([[1,1,0],\n",
    "           [1,0,1],\n",
    "           [1,0,0],\n",
    "           [1,1,1]])\n",
    "y=np.array([[1],[1],[0],[0]])\n"
   ]
  },
  {
   "cell_type": "code",
   "execution_count": 152,
   "id": "bf062862",
   "metadata": {},
   "outputs": [],
   "source": [
    "w1=np.random.rand(3,5)\n",
    "w2=np.random.rand(6,1)\n",
    "\n",
    "lr=0.09\n",
    "costs=[]\n",
    "epochs=17000"
   ]
  },
  {
   "cell_type": "code",
   "execution_count": 156,
   "id": "73e3cc10",
   "metadata": {},
   "outputs": [
    {
     "ename": "TypeError",
     "evalue": "Cannot interpret '1' as a data type",
     "output_type": "error",
     "traceback": [
      "\u001b[1;31m---------------------------------------------------------------------------\u001b[0m",
      "\u001b[1;31mTypeError\u001b[0m                                 Traceback (most recent call last)",
      "Input \u001b[1;32mIn [156]\u001b[0m, in \u001b[0;36m<module>\u001b[1;34m\u001b[0m\n\u001b[0;32m      1\u001b[0m \u001b[38;5;28;01mfor\u001b[39;00m i \u001b[38;5;129;01min\u001b[39;00m \u001b[38;5;28mrange\u001b[39m(epochs):\n\u001b[1;32m----> 2\u001b[0m     a1, z1, a2, z2 \u001b[38;5;241m=\u001b[39m \u001b[43mfeedforward_function\u001b[49m\u001b[43m(\u001b[49m\u001b[43mX\u001b[49m\u001b[43m,\u001b[49m\u001b[43m \u001b[49m\u001b[43mw1\u001b[49m\u001b[43m,\u001b[49m\u001b[43m \u001b[49m\u001b[43mw2\u001b[49m\u001b[43m)\u001b[49m\n\u001b[0;32m      3\u001b[0m     delta2, Delta1, Delta2 \u001b[38;5;241m=\u001b[39m backpropagation(a2, X, z1, z2, y)\n\u001b[0;32m      5\u001b[0m     w1\u001b[38;5;241m-\u001b[39m\u001b[38;5;241m=\u001b[39mlr\u001b[38;5;241m*\u001b[39m(\u001b[38;5;241m1\u001b[39m\u001b[38;5;241m/\u001b[39mm)\u001b[38;5;241m*\u001b[39mDelta1\n",
      "Input \u001b[1;32mIn [147]\u001b[0m, in \u001b[0;36mfeedforward_function\u001b[1;34m(x, w1, w2, predict)\u001b[0m\n\u001b[0;32m      3\u001b[0m z1\u001b[38;5;241m=\u001b[39msigmoid(a1)\n\u001b[0;32m      4\u001b[0m \u001b[38;5;66;03m#bias\u001b[39;00m\n\u001b[1;32m----> 5\u001b[0m bias\u001b[38;5;241m=\u001b[39m\u001b[43mnp\u001b[49m\u001b[38;5;241;43m.\u001b[39;49m\u001b[43mones\u001b[49m\u001b[43m(\u001b[49m\u001b[38;5;28;43mlen\u001b[39;49m\u001b[43m(\u001b[49m\u001b[43mz1\u001b[49m\u001b[43m)\u001b[49m\u001b[43m,\u001b[49m\u001b[38;5;241;43m1\u001b[39;49m\u001b[43m)\u001b[49m\n\u001b[0;32m      6\u001b[0m z1\u001b[38;5;241m=\u001b[39mnp\u001b[38;5;241m.\u001b[39mconcatenate((bias,z1),axis\u001b[38;5;241m=\u001b[39m\u001b[38;5;241m1\u001b[39m)\n\u001b[0;32m      7\u001b[0m a2\u001b[38;5;241m=\u001b[39mnp\u001b[38;5;241m.\u001b[39mmatmul(z1,w2)\n",
      "File \u001b[1;32m~\\Miniconda3\\lib\\site-packages\\numpy\\core\\numeric.py:204\u001b[0m, in \u001b[0;36mones\u001b[1;34m(shape, dtype, order, like)\u001b[0m\n\u001b[0;32m    201\u001b[0m \u001b[38;5;28;01mif\u001b[39;00m like \u001b[38;5;129;01mis\u001b[39;00m \u001b[38;5;129;01mnot\u001b[39;00m \u001b[38;5;28;01mNone\u001b[39;00m:\n\u001b[0;32m    202\u001b[0m     \u001b[38;5;28;01mreturn\u001b[39;00m _ones_with_like(shape, dtype\u001b[38;5;241m=\u001b[39mdtype, order\u001b[38;5;241m=\u001b[39morder, like\u001b[38;5;241m=\u001b[39mlike)\n\u001b[1;32m--> 204\u001b[0m a \u001b[38;5;241m=\u001b[39m \u001b[43mempty\u001b[49m\u001b[43m(\u001b[49m\u001b[43mshape\u001b[49m\u001b[43m,\u001b[49m\u001b[43m \u001b[49m\u001b[43mdtype\u001b[49m\u001b[43m,\u001b[49m\u001b[43m \u001b[49m\u001b[43morder\u001b[49m\u001b[43m)\u001b[49m\n\u001b[0;32m    205\u001b[0m multiarray\u001b[38;5;241m.\u001b[39mcopyto(a, \u001b[38;5;241m1\u001b[39m, casting\u001b[38;5;241m=\u001b[39m\u001b[38;5;124m'\u001b[39m\u001b[38;5;124munsafe\u001b[39m\u001b[38;5;124m'\u001b[39m)\n\u001b[0;32m    206\u001b[0m \u001b[38;5;28;01mreturn\u001b[39;00m a\n",
      "\u001b[1;31mTypeError\u001b[0m: Cannot interpret '1' as a data type"
     ]
    }
   ],
   "source": [
    "for i in range(epochs):\n",
    "    a1, z1, a2, z2 = feedforward_function(X, w1, w2)\n",
    "    delta2, Delta1, Delta2 = backpropagation(a2, X, z1, z2, y)\n",
    "    \n",
    "    w1-=lr*(1/m)*Delta1\n",
    "    w2-=lr*(1/m)*Delta2\n",
    "    \n",
    "    c=np.mean(np.abs(delta2))\n",
    "    costs.append(c)\n",
    "    \n",
    "    if i % 1000 == 0:\n",
    "        print('Iteration: ',i, 'Error: ',c)\n",
    " \n",
    "# Training complete\n",
    "print(\"Training completed.\")"
   ]
  },
  {
   "cell_type": "code",
   "execution_count": 158,
   "id": "0c5ca5c6",
   "metadata": {},
   "outputs": [],
   "source": [
    "def forward(x, w1, w2, predict=False):\n",
    "    a1 = np.matmul(x, w1)\n",
    "    z1 = sigmoid(a1)\n",
    "\n",
    "    # create and add the bias\n",
    "    bias = np.ones((len(z1), 1))\n",
    "    z1 = np.concatenate((bias, z1), axis = 1)\n",
    "    a2 = np.matmul(z1, w2)\n",
    "    z2 = sigmoid(a2)\n",
    "    if predict:\n",
    "        return z2\n",
    "    return a1, z1, a2, z2"
   ]
  },
  {
   "cell_type": "code",
   "execution_count": 163,
   "id": "d0577b58",
   "metadata": {},
   "outputs": [],
   "source": [
    "def backprop(a2, z0, z1, z2, y): \n",
    "    delta2 = z2 - y\n",
    "    Delta2 = np.matmul(z1.T, delta2)\n",
    "    delta1 = (delta2.dot(w2[1:,:].T))*sigmoid_derivative(a1)\n",
    "    Delta1 = np.matmul(z0.T, delta1)\n",
    "    return delta2, Delta1, Delta2"
   ]
  },
  {
   "cell_type": "code",
   "execution_count": 172,
   "id": "da91747c",
   "metadata": {},
   "outputs": [],
   "source": [
    "X = np.array([[1, 1, 0],\n",
    " [1, 0, 1],\n",
    " [1, 0, 0],\n",
    " [1, 1, 1]])\n",
    "y = np.array([[1], [1], [0], [0]])\n",
    "\n",
    "w1 = np.random.randn(3,5)\n",
    "w2 = np.random.randn(6,1)\n",
    "\n",
    "\n",
    "lr = 0.09\n",
    "costs = []\n",
    "# init epochs\n",
    "epochs = 17000\n",
    "m=1000"
   ]
  },
  {
   "cell_type": "code",
   "execution_count": 173,
   "id": "52bec221",
   "metadata": {},
   "outputs": [
    {
     "name": "stdout",
     "output_type": "stream",
     "text": [
      "Iteration:  0 Error:  14.519987288878342\n"
     ]
    },
    {
     "name": "stderr",
     "output_type": "stream",
     "text": [
      "C:\\Users\\pnl0gp8t\\AppData\\Local\\Temp\\ipykernel_24672\\4241114873.py:2: RuntimeWarning: overflow encountered in exp\n",
      "  return (np.exp(x)/(1-np.exp(1)))\n",
      "C:\\Users\\pnl0gp8t\\AppData\\Local\\Temp\\ipykernel_24672\\2239608374.py:3: RuntimeWarning: invalid value encountered in matmul\n",
      "  Delta2 = np.matmul(z1.T, delta2)\n",
      "C:\\Users\\pnl0gp8t\\AppData\\Local\\Temp\\ipykernel_24672\\2239608374.py:4: RuntimeWarning: invalid value encountered in multiply\n",
      "  delta1 = (delta2.dot(w2[1:,:].T))*sigmoid_derivative(a1)\n",
      "C:\\Users\\pnl0gp8t\\AppData\\Local\\Temp\\ipykernel_24672\\2239608374.py:5: RuntimeWarning: invalid value encountered in matmul\n",
      "  Delta1 = np.matmul(z0.T, delta1)\n"
     ]
    },
    {
     "name": "stdout",
     "output_type": "stream",
     "text": [
      "Iteration:  1000 Error:  nan\n",
      "Iteration:  2000 Error:  nan\n",
      "Iteration:  3000 Error:  nan\n",
      "Iteration:  4000 Error:  nan\n",
      "Iteration:  5000 Error:  nan\n",
      "Iteration:  6000 Error:  nan\n",
      "Iteration:  7000 Error:  nan\n",
      "Iteration:  8000 Error:  nan\n",
      "Iteration:  9000 Error:  nan\n",
      "Iteration:  10000 Error:  nan\n",
      "Iteration:  11000 Error:  nan\n",
      "Iteration:  12000 Error:  nan\n",
      "Iteration:  13000 Error:  nan\n",
      "Iteration:  14000 Error:  nan\n",
      "Iteration:  15000 Error:  nan\n",
      "Iteration:  16000 Error:  nan\n",
      "Training completed.\n"
     ]
    }
   ],
   "source": [
    "# Start training\n",
    "for i in range(epochs):\n",
    "    a1, z1, a2, z2 = forward(X, w1, w2)\n",
    "    delta2, Delta1, Delta2 = backprop(a2, X, z1, z2, y)\n",
    "    w1 -= lr*(1/m)*Delta1\n",
    "    w2 -= lr*(1/m)*Delta2\n",
    "    c = np.mean(np.abs(delta2))\n",
    "    costs.append(c)\n",
    "    if i % 1000 == 0:\n",
    "        print('Iteration: ',i, 'Error: ',c)\n",
    "\n",
    "        \n",
    "print('Training completed.')\n",
    "\n",
    "\n"
   ]
  },
  {
   "cell_type": "code",
   "execution_count": 174,
   "id": "c7f910ed",
   "metadata": {},
   "outputs": [
    {
     "data": {
      "image/png": "[encoded data removed]",
      "text/plain": [
       "<Figure size 432x288 with 1 Axes>"
      ]
     },
     "metadata": {
      "needs_background": "light"
     },
     "output_type": "display_data"
    }
   ],
   "source": [
    "plt.plot(costs)\n",
    "plt.show()"
   ]
  },
  {
   "cell_type": "code",
   "execution_count": 176,
   "id": "88a4483d",
   "metadata": {},
   "outputs": [
    {
     "name": "stdout",
     "output_type": "stream",
     "text": [
      "Percentages: \n",
      "[[nan]\n",
      " [nan]\n",
      " [nan]\n",
      " [nan]]\n",
      "Predictions: \n",
      "[[nan]\n",
      " [nan]\n",
      " [nan]\n",
      " [nan]]\n"
     ]
    }
   ],
   "source": [
    "z3 = forward(X,w1,w2,True)\n",
    "print('Percentages: ')\n",
    "print(z3)\n",
    "print('Predictions: ')\n",
    "print(np.round(z3))"
   ]
  },
  {
   "cell_type": "code",
   "execution_count": 177,
   "id": "5133456f",
   "metadata": {},
   "outputs": [],
   "source": [
    "class NeuralNetwork:\n",
    "    def __init__(self, x, y):\n",
    "        self.input      = x\n",
    "        self.weights1   = np.random.rand(self.input.shape[1],4) \n",
    "        self.weights2   = np.random.rand(4,1)                 \n",
    "        self.y          = y\n",
    "        self.output     = np.zeros(self.y.shape)\n",
    "\n",
    "    def feedforward(self):\n",
    "        self.layer1 = sigmoid(np.dot(self.input, self.weights1))\n",
    "        self.output = sigmoid(np.dot(self.layer1, self.weights2))\n",
    "\n",
    "    def backprop(self):\n",
    "        # application of the chain rule to find derivative of the loss function with respect to weights2 and weights1\n",
    "        d_weights2 = np.dot(self.layer1.T, (2*(self.y - self.output) * sigmoid_derivative(self.output)))\n",
    "        d_weights1 = np.dot(self.input.T,  (np.dot(2*(self.y - self.output) * sigmoid_derivative(self.output), self.weights2.T) * sigmoid_derivative(self.layer1)))\n",
    "\n",
    "        # update the weights with the derivative (slope) of the loss function\n",
    "        self.weights1 += d_weights1\n",
    "        self.weights2 += d_weights2"
   ]
  },
  {
   "cell_type": "code",
   "execution_count": 179,
   "id": "c3851868",
   "metadata": {},
   "outputs": [
    {
     "data": {
      "text/plain": [
       "__main__.NeuralNetwork"
      ]
     },
     "execution_count": 179,
     "metadata": {},
     "output_type": "execute_result"
    }
   ],
   "source": [
    "NeuralNetwork"
   ]
  },
  {
   "cell_type": "code",
   "execution_count": 183,
   "id": "cc1c3e40",
   "metadata": {},
   "outputs": [
    {
     "name": "stdout",
     "output_type": "stream",
     "text": [
      "Using cpu device\n"
     ]
    }
   ],
   "source": [
    "device = \"cuda\" if torch.cuda.is_available() else \"cpu\"\n",
    "print(f\"Using {device} device\")"
   ]
  },
  {
   "cell_type": "code",
   "execution_count": 196,
   "id": "0298bbfa",
   "metadata": {},
   "outputs": [],
   "source": [
    "class NeuralNetwork(nn.Module):\n",
    "    def __init__(self):\n",
    "        super(NeuralNetwork, self).__init__()\n",
    "        self.flatten = nn.Flatten()\n",
    "        self.linear_relu_stack = nn.Sequential(\n",
    "            nn.Linear(28*28, 512),\n",
    "            nn.ReLU(),\n",
    "            nn.Linear(512, 512),\n",
    "            nn.ReLU(),\n",
    "            nn.Linear(512, 10),\n",
    "        )\n",
    "\n",
    "    def forward(self, x):\n",
    "        x = self.flatten(x)\n",
    "        logits = self.linear_relu_stack(x)\n",
    "        return logits"
   ]
  },
  {
   "cell_type": "code",
   "execution_count": 215,
   "id": "288ae311",
   "metadata": {},
   "outputs": [
    {
     "name": "stdout",
     "output_type": "stream",
     "text": [
      "NeuralNetwork(\n",
      "  (flatten): Flatten(start_dim=1, end_dim=-1)\n",
      "  (linear_relu_stack): Sequential(\n",
      "    (0): Linear(in_features=784, out_features=512, bias=True)\n",
      "    (1): ReLU()\n",
      "    (2): Linear(in_features=512, out_features=512, bias=True)\n",
      "    (3): ReLU()\n",
      "    (4): Linear(in_features=512, out_features=10, bias=True)\n",
      "  )\n",
      ")\n"
     ]
    }
   ],
   "source": [
    "model = NeuralNetwork().to(device)\n",
    "print(model)"
   ]
  },
  {
   "cell_type": "code",
   "execution_count": 217,
   "id": "078ed83e",
   "metadata": {},
   "outputs": [
    {
     "data": {
      "text/plain": [
       "tensor([6])"
      ]
     },
     "execution_count": 217,
     "metadata": {},
     "output_type": "execute_result"
    }
   ],
   "source": [
    "X=torch.rand(1,28,28,device=device)\n",
    "logits=model(X)\n",
    "\n",
    "pred_prob=nn.Softmax(dim=1)(logits)\n",
    "y_pred=pred_prob.argmax(1)\n",
    "y_pred\n",
    "\n"
   ]
  },
  {
   "cell_type": "code",
   "execution_count": 218,
   "id": "8fdab7e6",
   "metadata": {},
   "outputs": [
    {
     "name": "stdout",
     "output_type": "stream",
     "text": [
      "torch.Size([3, 28, 28])\n"
     ]
    }
   ],
   "source": [
    "input_image = torch.rand(3,28,28)\n",
    "print(input_image.size())"
   ]
  },
  {
   "cell_type": "code",
   "execution_count": 225,
   "id": "10411378",
   "metadata": {},
   "outputs": [
    {
     "data": {
      "text/plain": [
       "torch.Size([3, 784])"
      ]
     },
     "execution_count": 225,
     "metadata": {},
     "output_type": "execute_result"
    }
   ],
   "source": [
    "flat=nn.Flatten()\n",
    "flat_image=flat(input_image)\n",
    "flat_image.size()"
   ]
  },
  {
   "cell_type": "code",
   "execution_count": 231,
   "id": "2c7242a4",
   "metadata": {},
   "outputs": [
    {
     "data": {
      "text/plain": [
       "torch.Size([3, 20])"
      ]
     },
     "execution_count": 231,
     "metadata": {},
     "output_type": "execute_result"
    }
   ],
   "source": [
    "layer1=nn.Linear(in_features=28*28, out_features=20)\n",
    "hidden1=layer1(flat_image)\n",
    "hidden1.size()"
   ]
  },
  {
   "cell_type": "code",
   "execution_count": 233,
   "id": "635247e5",
   "metadata": {},
   "outputs": [
    {
     "name": "stdout",
     "output_type": "stream",
     "text": [
      "tensor([[-4.3861e-02, -2.8733e-01, -4.3802e-01, -2.1829e-01,  2.2383e-02,\n",
      "         -1.6549e-01,  1.8871e-01,  1.0898e-01, -5.6244e-01,  1.1988e-01,\n",
      "          3.8169e-01, -1.3100e-01, -1.6731e-01, -4.9978e-05,  1.0389e+00,\n",
      "         -1.3575e-01, -6.8931e-01,  2.8586e-01,  1.1274e-02,  1.3131e-01],\n",
      "        [-3.4414e-01, -1.8756e-01, -5.7897e-01,  6.3074e-03, -2.0038e-01,\n",
      "         -8.4026e-02,  4.8351e-01,  1.7402e-02, -7.1018e-01,  3.5139e-01,\n",
      "         -7.4317e-02, -1.1168e-01, -5.4186e-02, -2.6973e-01,  7.1553e-01,\n",
      "         -1.6491e-01, -3.5184e-01,  2.1305e-01,  2.9582e-01,  9.0899e-02],\n",
      "        [ 1.3411e-01, -2.4767e-01, -6.2953e-01, -1.1250e-01, -1.9173e-01,\n",
      "         -3.3918e-01,  4.2047e-01, -8.3970e-02, -1.1886e-01,  7.3527e-02,\n",
      "          5.2994e-02, -1.0833e-01, -1.8157e-01, -1.2979e-01,  1.0395e+00,\n",
      "         -8.0021e-02, -5.1060e-01,  3.0998e-01, -7.8447e-02,  6.2034e-02]],\n",
      "       grad_fn=<AddmmBackward0>)\n"
     ]
    },
    {
     "data": {
      "text/plain": [
       "tensor([[0.0000, 0.0000, 0.0000, 0.0000, 0.0224, 0.0000, 0.1887, 0.1090, 0.0000,\n",
       "         0.1199, 0.3817, 0.0000, 0.0000, 0.0000, 1.0389, 0.0000, 0.0000, 0.2859,\n",
       "         0.0113, 0.1313],\n",
       "        [0.0000, 0.0000, 0.0000, 0.0063, 0.0000, 0.0000, 0.4835, 0.0174, 0.0000,\n",
       "         0.3514, 0.0000, 0.0000, 0.0000, 0.0000, 0.7155, 0.0000, 0.0000, 0.2131,\n",
       "         0.2958, 0.0909],\n",
       "        [0.1341, 0.0000, 0.0000, 0.0000, 0.0000, 0.0000, 0.4205, 0.0000, 0.0000,\n",
       "         0.0735, 0.0530, 0.0000, 0.0000, 0.0000, 1.0395, 0.0000, 0.0000, 0.3100,\n",
       "         0.0000, 0.0620]], grad_fn=<ReluBackward0>)"
      ]
     },
     "execution_count": 233,
     "metadata": {},
     "output_type": "execute_result"
    }
   ],
   "source": [
    "print(hidden1)\n",
    "hidden1=nn.ReLU()(hidden1)\n",
    "hidden1"
   ]
  },
  {
   "cell_type": "code",
   "execution_count": 235,
   "id": "5e64176c",
   "metadata": {},
   "outputs": [],
   "source": [
    "seq_modules = nn.Sequential(\n",
    "    flat,\n",
    "    layer1,\n",
    "    nn.ReLU(),\n",
    "    nn.Linear(20, 10)\n",
    ")\n",
    "input_image = torch.rand(3,28,28)\n",
    "logits = seq_modules(input_image)"
   ]
  },
  {
   "cell_type": "code",
   "execution_count": 236,
   "id": "e6bd61f5",
   "metadata": {},
   "outputs": [],
   "source": [
    "softmax = nn.Softmax(dim=1)\n",
    "pred_probab = softmax(logits)"
   ]
  },
  {
   "cell_type": "code",
   "execution_count": 237,
   "id": "c1eccb39",
   "metadata": {},
   "outputs": [
    {
     "name": "stdout",
     "output_type": "stream",
     "text": [
      "Model structure: NeuralNetwork(\n",
      "  (flatten): Flatten(start_dim=1, end_dim=-1)\n",
      "  (linear_relu_stack): Sequential(\n",
      "    (0): Linear(in_features=784, out_features=512, bias=True)\n",
      "    (1): ReLU()\n",
      "    (2): Linear(in_features=512, out_features=512, bias=True)\n",
      "    (3): ReLU()\n",
      "    (4): Linear(in_features=512, out_features=10, bias=True)\n",
      "  )\n",
      ")\n",
      "\n",
      "\n",
      "Layer: linear_relu_stack.0.weight | Size: torch.Size([512, 784]) | Values : tensor([[-0.0143,  0.0345,  0.0011,  ..., -0.0331, -0.0171,  0.0238],\n",
      "        [ 0.0356, -0.0186, -0.0089,  ...,  0.0035, -0.0225,  0.0221]],\n",
      "       grad_fn=<SliceBackward0>) \n",
      "\n",
      "Layer: linear_relu_stack.0.bias | Size: torch.Size([512]) | Values : tensor([0.0035, 0.0074], grad_fn=<SliceBackward0>) \n",
      "\n",
      "Layer: linear_relu_stack.2.weight | Size: torch.Size([512, 512]) | Values : tensor([[-0.0355, -0.0190,  0.0115,  ..., -0.0258, -0.0048, -0.0376],\n",
      "        [-0.0102,  0.0224,  0.0021,  ..., -0.0058, -0.0390,  0.0232]],\n",
      "       grad_fn=<SliceBackward0>) \n",
      "\n",
      "Layer: linear_relu_stack.2.bias | Size: torch.Size([512]) | Values : tensor([-0.0135,  0.0417], grad_fn=<SliceBackward0>) \n",
      "\n",
      "Layer: linear_relu_stack.4.weight | Size: torch.Size([10, 512]) | Values : tensor([[ 0.0245, -0.0157,  0.0006,  ..., -0.0152,  0.0097, -0.0338],\n",
      "        [ 0.0390,  0.0095, -0.0020,  ...,  0.0083,  0.0323,  0.0312]],\n",
      "       grad_fn=<SliceBackward0>) \n",
      "\n",
      "Layer: linear_relu_stack.4.bias | Size: torch.Size([10]) | Values : tensor([0.0244, 0.0284], grad_fn=<SliceBackward0>) \n",
      "\n"
     ]
    }
   ],
   "source": [
    "print(f\"Model structure: {model}\\n\\n\")\n",
    "\n",
    "for name, param in model.named_parameters():\n",
    "    print(f\"Layer: {name} | Size: {param.size()} | Values : {param[:2]} \\n\")"
   ]
  },
  {
   "cell_type": "code",
   "execution_count": null,
   "id": "deef6ef4",
   "metadata": {},
   "outputs": [],
   "source": []
  }
 ],
 "metadata": {
  "kernelspec": {
   "display_name": "Python 3 (ipykernel)",
   "language": "python",
   "name": "python3"
  },
  "language_info": {
   "codemirror_mode": {
    "name": "ipython",
    "version": 3
   },
   "file_extension": ".py",
   "mimetype": "text/x-python",
   "name": "python",
   "nbconvert_exporter": "python",
   "pygments_lexer": "ipython3",
   "version": "3.10.4"
  }
 },
 "nbformat": 4,
 "nbformat_minor": 5
}
