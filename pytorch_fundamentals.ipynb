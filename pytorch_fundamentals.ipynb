{
  "nbformat": 4,
  "nbformat_minor": 0,
  "metadata": {
    "colab": {
      "provenance": []
    },
    "kernelspec": {
      "name": "python3",
      "display_name": "Python 3"
    },
    "language_info": {
      "name": "python"
    },
    "gpuClass": "standard"
  },
  "cells": [
    {
      "cell_type": "code",
      "execution_count": 1,
      "metadata": {
        "id": "YsAidHWtXFSQ"
      },
      "outputs": [],
      "source": [
        "# !nvidia-smi"
      ]
    },
    {
      "cell_type": "code",
      "source": [
        "import torch\n",
        "import pandas as pd\n",
        "import numpy as np\n",
        "import matplotlib.pyplot as plt\n",
        "print(torch.__version__)"
      ],
      "metadata": {
        "colab": {
          "base_uri": "https://localhost:8080/"
        },
        "id": "fP6J_t5mXaxP",
        "outputId": "dcfb09a3-30f6-4732-eb82-f44e41d2e5e5"
      },
      "execution_count": 20,
      "outputs": [
        {
          "output_type": "stream",
          "name": "stdout",
          "text": [
            "1.12.1+cu113\n"
          ]
        }
      ]
    },
    {
      "cell_type": "code",
      "source": [
        "scalar=torch.tensor(7)"
      ],
      "metadata": {
        "id": "frY9W55eX6IH"
      },
      "execution_count": 21,
      "outputs": []
    },
    {
      "cell_type": "code",
      "source": [
        "scalar"
      ],
      "metadata": {
        "colab": {
          "base_uri": "https://localhost:8080/"
        },
        "id": "nsk50YCVKcbo",
        "outputId": "fa99a075-b29d-403c-80f4-2d7a1cf7a252"
      },
      "execution_count": 22,
      "outputs": [
        {
          "output_type": "execute_result",
          "data": {
            "text/plain": [
              "tensor(7)"
            ]
          },
          "metadata": {},
          "execution_count": 22
        }
      ]
    },
    {
      "cell_type": "code",
      "source": [
        "scalar.ndim"
      ],
      "metadata": {
        "colab": {
          "base_uri": "https://localhost:8080/"
        },
        "id": "pAYGa1GVKc5F",
        "outputId": "5b3ce395-00fe-4e3a-c4fd-db7dc705d519"
      },
      "execution_count": 23,
      "outputs": [
        {
          "output_type": "execute_result",
          "data": {
            "text/plain": [
              "0"
            ]
          },
          "metadata": {},
          "execution_count": 23
        }
      ]
    },
    {
      "cell_type": "code",
      "source": [
        "\n",
        "vector=torch.tensor([1,3])"
      ],
      "metadata": {
        "id": "IHlqkTYeKiWC"
      },
      "execution_count": 24,
      "outputs": []
    },
    {
      "cell_type": "code",
      "source": [
        "vector"
      ],
      "metadata": {
        "colab": {
          "base_uri": "https://localhost:8080/"
        },
        "id": "pGj_41GQKp5P",
        "outputId": "1665d20d-bbe1-4e39-f6d3-4f929099d309"
      },
      "execution_count": 25,
      "outputs": [
        {
          "output_type": "execute_result",
          "data": {
            "text/plain": [
              "tensor([1, 3])"
            ]
          },
          "metadata": {},
          "execution_count": 25
        }
      ]
    },
    {
      "cell_type": "code",
      "source": [
        "vector.ndim"
      ],
      "metadata": {
        "colab": {
          "base_uri": "https://localhost:8080/"
        },
        "id": "GRNf1sn_KqsR",
        "outputId": "609e7fcf-5afd-417d-9d1f-f371692ea123"
      },
      "execution_count": 26,
      "outputs": [
        {
          "output_type": "execute_result",
          "data": {
            "text/plain": [
              "1"
            ]
          },
          "metadata": {},
          "execution_count": 26
        }
      ]
    },
    {
      "cell_type": "code",
      "source": [
        "MATRIX = torch.tensor([[7, 8], \n",
        "                       [9, 10]])\n",
        "MATRIX"
      ],
      "metadata": {
        "colab": {
          "base_uri": "https://localhost:8080/"
        },
        "id": "28GP1OWTKspS",
        "outputId": "74c45557-7772-40b9-c8b9-5516e91be0e1"
      },
      "execution_count": 27,
      "outputs": [
        {
          "output_type": "execute_result",
          "data": {
            "text/plain": [
              "tensor([[ 7,  8],\n",
              "        [ 9, 10]])"
            ]
          },
          "metadata": {},
          "execution_count": 27
        }
      ]
    },
    {
      "cell_type": "code",
      "source": [
        "MATRIX.ndim"
      ],
      "metadata": {
        "colab": {
          "base_uri": "https://localhost:8080/"
        },
        "id": "mF3-zIYTKveu",
        "outputId": "72a29f95-a4fc-4a28-bb6d-6387063e681a"
      },
      "execution_count": 28,
      "outputs": [
        {
          "output_type": "execute_result",
          "data": {
            "text/plain": [
              "2"
            ]
          },
          "metadata": {},
          "execution_count": 28
        }
      ]
    },
    {
      "cell_type": "code",
      "source": [
        "rand_tensor=torch.rand(size=(2,3,4))"
      ],
      "metadata": {
        "id": "GF6Fsi6dKxCU"
      },
      "execution_count": 29,
      "outputs": []
    },
    {
      "cell_type": "code",
      "source": [
        "rand_tensor"
      ],
      "metadata": {
        "colab": {
          "base_uri": "https://localhost:8080/"
        },
        "id": "Wp51-12MK69E",
        "outputId": "563f74a3-3fd4-4bc5-a066-73b3822817b1"
      },
      "execution_count": 30,
      "outputs": [
        {
          "output_type": "execute_result",
          "data": {
            "text/plain": [
              "tensor([[[0.9561, 0.7434, 0.1044, 0.4741],\n",
              "         [0.9723, 0.3435, 0.7551, 0.5486],\n",
              "         [0.4067, 0.1163, 0.4418, 0.9600]],\n",
              "\n",
              "        [[0.1055, 0.2599, 0.6638, 0.7991],\n",
              "         [0.1312, 0.7812, 0.8177, 0.4699],\n",
              "         [0.5458, 0.1843, 0.0463, 0.2906]]])"
            ]
          },
          "metadata": {},
          "execution_count": 30
        }
      ]
    },
    {
      "cell_type": "code",
      "source": [
        "random_image_size_tensor = torch.rand(size=(224, 224, 3))\n",
        "random_image_size_tensor.shape, random_image_size_tensor.ndim"
      ],
      "metadata": {
        "colab": {
          "base_uri": "https://localhost:8080/"
        },
        "id": "bPXHYzJiK7nM",
        "outputId": "b4e06f1c-5f65-45d6-c165-3deb9269c147"
      },
      "execution_count": 31,
      "outputs": [
        {
          "output_type": "execute_result",
          "data": {
            "text/plain": [
              "(torch.Size([224, 224, 3]), 3)"
            ]
          },
          "metadata": {},
          "execution_count": 31
        }
      ]
    },
    {
      "cell_type": "code",
      "source": [
        "# random_image_size_tensor"
      ],
      "metadata": {
        "id": "_geeG-IPLDfU"
      },
      "execution_count": 32,
      "outputs": []
    },
    {
      "cell_type": "code",
      "source": [
        "\n",
        "float_32_tensor = torch.tensor([3.0, 6.0, 9.0],dtype=None,device=None, requires_grad=False) \n",
        "\n",
        "float_32_tensor.shape, float_32_tensor.dtype, float_32_tensor.device"
      ],
      "metadata": {
        "colab": {
          "base_uri": "https://localhost:8080/"
        },
        "id": "aSic1jPCLEtN",
        "outputId": "31bc2a35-048d-4f0a-e3fa-b8b81d7c3d20"
      },
      "execution_count": 33,
      "outputs": [
        {
          "output_type": "execute_result",
          "data": {
            "text/plain": [
              "(torch.Size([3]), torch.float32, device(type='cpu'))"
            ]
          },
          "metadata": {},
          "execution_count": 33
        }
      ]
    },
    {
      "cell_type": "code",
      "source": [
        "import torch\n",
        "tensor = torch.tensor([1, 2, 3])\n",
        "tensor.shape"
      ],
      "metadata": {
        "colab": {
          "base_uri": "https://localhost:8080/"
        },
        "id": "Fv4-yx9-LRLM",
        "outputId": "5cb47ddc-023b-4737-982b-d606ea67bf1b"
      },
      "execution_count": 34,
      "outputs": [
        {
          "output_type": "execute_result",
          "data": {
            "text/plain": [
              "torch.Size([3])"
            ]
          },
          "metadata": {},
          "execution_count": 34
        }
      ]
    },
    {
      "cell_type": "code",
      "source": [
        "tensor * tensor"
      ],
      "metadata": {
        "colab": {
          "base_uri": "https://localhost:8080/"
        },
        "id": "Rr-uX96ILV-c",
        "outputId": "38345186-f3ce-4ed9-e573-225a2b6091af"
      },
      "execution_count": 35,
      "outputs": [
        {
          "output_type": "execute_result",
          "data": {
            "text/plain": [
              "tensor([1, 4, 9])"
            ]
          },
          "metadata": {},
          "execution_count": 35
        }
      ]
    },
    {
      "cell_type": "code",
      "source": [
        "torch.matmul(tensor, tensor)"
      ],
      "metadata": {
        "colab": {
          "base_uri": "https://localhost:8080/"
        },
        "id": "PTxCSLDALXCn",
        "outputId": "74be1162-49de-47d5-887b-832013d0fe7d"
      },
      "execution_count": 36,
      "outputs": [
        {
          "output_type": "execute_result",
          "data": {
            "text/plain": [
              "tensor(14)"
            ]
          },
          "metadata": {},
          "execution_count": 36
        }
      ]
    },
    {
      "cell_type": "code",
      "source": [
        "tensor@tensor"
      ],
      "metadata": {
        "colab": {
          "base_uri": "https://localhost:8080/"
        },
        "id": "kGnQ9KAsLYjw",
        "outputId": "4689aa1a-9979-4d3b-d015-f7980aa9b842"
      },
      "execution_count": 37,
      "outputs": [
        {
          "output_type": "execute_result",
          "data": {
            "text/plain": [
              "tensor(14)"
            ]
          },
          "metadata": {},
          "execution_count": 37
        }
      ]
    },
    {
      "cell_type": "code",
      "source": [
        "tensor_A = torch.tensor([[1, 2],\n",
        "                         [3, 4],\n",
        "                         [5, 6]], dtype=torch.float32)\n",
        "\n",
        "tensor_B = torch.tensor([[7, 10],\n",
        "                         [8, 11], \n",
        "                         [9, 12]], dtype=torch.float32)\n",
        "\n",
        "torch.matmul(tensor_A, tensor_B.T)"
      ],
      "metadata": {
        "colab": {
          "base_uri": "https://localhost:8080/"
        },
        "id": "XtIXJBUwLZZL",
        "outputId": "1004c40f-b22e-4e2a-9a3b-5cb433b801db"
      },
      "execution_count": 38,
      "outputs": [
        {
          "output_type": "execute_result",
          "data": {
            "text/plain": [
              "tensor([[ 27.,  30.,  33.],\n",
              "        [ 61.,  68.,  75.],\n",
              "        [ 95., 106., 117.]])"
            ]
          },
          "metadata": {},
          "execution_count": 38
        }
      ]
    },
    {
      "cell_type": "code",
      "source": [
        "\n",
        "torch.mm(tensor_A.T,tensor_B)"
      ],
      "metadata": {
        "colab": {
          "base_uri": "https://localhost:8080/"
        },
        "id": "r_Hb3du3LcMI",
        "outputId": "0688c47c-19de-4d54-91ad-b1df40dd6ac7"
      },
      "execution_count": 39,
      "outputs": [
        {
          "output_type": "execute_result",
          "data": {
            "text/plain": [
              "tensor([[ 76., 103.],\n",
              "        [100., 136.]])"
            ]
          },
          "metadata": {},
          "execution_count": 39
        }
      ]
    },
    {
      "cell_type": "code",
      "source": [
        "tensor_B.squeeze()"
      ],
      "metadata": {
        "colab": {
          "base_uri": "https://localhost:8080/"
        },
        "id": "nwulyfcnLs3o",
        "outputId": "a85ab32d-9cd6-449d-99c1-5b991f5631a3"
      },
      "execution_count": 40,
      "outputs": [
        {
          "output_type": "execute_result",
          "data": {
            "text/plain": [
              "tensor([[ 7., 10.],\n",
              "        [ 8., 11.],\n",
              "        [ 9., 12.]])"
            ]
          },
          "metadata": {},
          "execution_count": 40
        }
      ]
    },
    {
      "cell_type": "code",
      "source": [
        "torch.stack([tensor_A,tensor_B]).view(12)"
      ],
      "metadata": {
        "colab": {
          "base_uri": "https://localhost:8080/"
        },
        "id": "67irjcgCL00w",
        "outputId": "3c0476ba-c64e-40ee-d3bc-550686040076"
      },
      "execution_count": 41,
      "outputs": [
        {
          "output_type": "execute_result",
          "data": {
            "text/plain": [
              "tensor([ 1.,  2.,  3.,  4.,  5.,  6.,  7., 10.,  8., 11.,  9., 12.])"
            ]
          },
          "metadata": {},
          "execution_count": 41
        }
      ]
    },
    {
      "cell_type": "code",
      "source": [
        "import matplotlib.pyplot as plt\n"
      ],
      "metadata": {
        "id": "WrtQXRDIL7SQ"
      },
      "execution_count": 42,
      "outputs": []
    },
    {
      "cell_type": "code",
      "source": [
        "weight=0.7\n",
        "bias=0.3\n",
        "\n",
        "start=0\n",
        "end=1\n",
        "\n",
        "step=0.02\n",
        "\n",
        "X = torch.arange(start, end, step).unsqueeze(dim=1)\n",
        "\n",
        "y= X*weight + bias\n",
        "\n",
        "X[:10],y[:10]\n",
        "\n",
        "\n"
      ],
      "metadata": {
        "colab": {
          "base_uri": "https://localhost:8080/"
        },
        "id": "jxNF276HMLvF",
        "outputId": "2634b078-040e-44cf-f4d0-4fbd9fd6716f"
      },
      "execution_count": 43,
      "outputs": [
        {
          "output_type": "execute_result",
          "data": {
            "text/plain": [
              "(tensor([[0.0000],\n",
              "         [0.0200],\n",
              "         [0.0400],\n",
              "         [0.0600],\n",
              "         [0.0800],\n",
              "         [0.1000],\n",
              "         [0.1200],\n",
              "         [0.1400],\n",
              "         [0.1600],\n",
              "         [0.1800]]), tensor([[0.3000],\n",
              "         [0.3140],\n",
              "         [0.3280],\n",
              "         [0.3420],\n",
              "         [0.3560],\n",
              "         [0.3700],\n",
              "         [0.3840],\n",
              "         [0.3980],\n",
              "         [0.4120],\n",
              "         [0.4260]]))"
            ]
          },
          "metadata": {},
          "execution_count": 43
        }
      ]
    },
    {
      "cell_type": "code",
      "source": [
        "train_split = int(0.8 * len(X)) # 80% of data used for training set, 20% for testing \n",
        "X_train, y_train = X[:train_split], y[:train_split]\n",
        "X_test, y_test = X[train_split:], y[train_split:]\n",
        "\n",
        "len(X_train), len(y_train), len(X_test), len(y_test)"
      ],
      "metadata": {
        "colab": {
          "base_uri": "https://localhost:8080/"
        },
        "id": "VuO9b5LgMbJ_",
        "outputId": "7f6d649a-48ba-450e-e54c-d37cf0c8e948"
      },
      "execution_count": 44,
      "outputs": [
        {
          "output_type": "execute_result",
          "data": {
            "text/plain": [
              "(40, 40, 10, 10)"
            ]
          },
          "metadata": {},
          "execution_count": 44
        }
      ]
    },
    {
      "cell_type": "code",
      "source": [
        "def plot_predictions(train_data=X_train, train_labels=y_train, test_data=X_test,test_labels=y_test, predictions=None):\n",
        "  plt.figure(figsize=(16,10))\n",
        "  plt.scatter(train_data, train_labels, c=\"b\", s=4, label=\"Training data\")\n",
        "  plt.scatter(test_data,test_labels, c= 'r',s=4,label='Test labesl')\n",
        "\n",
        "  if predictions is not None:\n",
        "    # Plot the predictions in red (predictions were made on the test data)\n",
        "    plt.scatter(test_data, predictions, c=\"r\", s=4, label=\"Predictions\")\n",
        "    plt.legend(prop={\"size\": 14})"
      ],
      "metadata": {
        "id": "7PUJaKmxMdpW"
      },
      "execution_count": 45,
      "outputs": []
    },
    {
      "cell_type": "code",
      "source": [
        "\n",
        "plot_predictions()"
      ],
      "metadata": {
        "colab": {
          "base_uri": "https://localhost:8080/",
          "height": 592
        },
        "id": "9bsyvUqAMdwe",
        "outputId": "e235cb2b-8a61-4232-c976-6aaa4d42e4cf"
      },
      "execution_count": 46,
      "outputs": [
        {
          "output_type": "display_data",
          "data": {
            "text/plain": [
              "<Figure size 1152x720 with 1 Axes>"
            ],
            "image/png": "[encoded data removed]"
          },
          "metadata": {
            "needs_background": "light"
          }
        }
      ]
    },
    {
      "cell_type": "code",
      "source": [
        "#building LR models using pytorch\n",
        "import torch\n",
        "from torch import nn \n",
        "class LinearRegression(nn.Module):\n",
        "  def __init__(self):\n",
        "    super().__init__()\n",
        "    self.weights=nn.Parameter(torch.randn(1,requires_grad=True,dtype=torch.float))\n",
        "    self.bias=nn.Parameter(torch.randn(1,requires_grad=True,dtype=torch.float))\n",
        "\n",
        "  def forward(self,x: torch.tensor):\n",
        "    return self.weights*x + self.bias\n",
        "\n"
      ],
      "metadata": {
        "id": "eFjjLoIINLD2"
      },
      "execution_count": 49,
      "outputs": []
    },
    {
      "cell_type": "code",
      "source": [
        "torch.manual_seed(42)\n",
        "model_0=LinearRegression()\n",
        "list(model_0.bias)"
      ],
      "metadata": {
        "colab": {
          "base_uri": "https://localhost:8080/"
        },
        "id": "LVRjrHDEbpaX",
        "outputId": "5cc6e6a6-452d-456d-aebe-61688b50058b"
      },
      "execution_count": 81,
      "outputs": [
        {
          "output_type": "execute_result",
          "data": {
            "text/plain": [
              "[tensor(0.1288, grad_fn=<UnbindBackward0>)]"
            ]
          },
          "metadata": {},
          "execution_count": 81
        }
      ]
    },
    {
      "cell_type": "code",
      "source": [
        "model_0.bias"
      ],
      "metadata": {
        "colab": {
          "base_uri": "https://localhost:8080/"
        },
        "id": "zMCkXX6obpdg",
        "outputId": "980cd011-6fe9-44d8-fdbe-365cadf3d231"
      },
      "execution_count": 51,
      "outputs": [
        {
          "output_type": "execute_result",
          "data": {
            "text/plain": [
              "Parameter containing:\n",
              "tensor([0.1288], requires_grad=True)"
            ]
          },
          "metadata": {},
          "execution_count": 51
        }
      ]
    },
    {
      "cell_type": "code",
      "source": [
        "model_0.weights"
      ],
      "metadata": {
        "colab": {
          "base_uri": "https://localhost:8080/"
        },
        "id": "KR4H7KM_bplO",
        "outputId": "81016b59-88fa-4431-9be9-9955af8a0a80"
      },
      "execution_count": 61,
      "outputs": [
        {
          "output_type": "execute_result",
          "data": {
            "text/plain": [
              "Parameter containing:\n",
              "tensor([0.3367], requires_grad=True)"
            ]
          },
          "metadata": {},
          "execution_count": 61
        }
      ]
    },
    {
      "cell_type": "code",
      "source": [
        "model_0.parameters()"
      ],
      "metadata": {
        "colab": {
          "base_uri": "https://localhost:8080/"
        },
        "id": "BRLj4Q_Abpnv",
        "outputId": "f87d8e0c-2ab6-4274-b822-5505202eb205"
      },
      "execution_count": 58,
      "outputs": [
        {
          "output_type": "execute_result",
          "data": {
            "text/plain": [
              "<generator object Module.parameters at 0x7f30ce46f850>"
            ]
          },
          "metadata": {},
          "execution_count": 58
        }
      ]
    },
    {
      "cell_type": "code",
      "source": [
        "model_0.named_parameters()"
      ],
      "metadata": {
        "colab": {
          "base_uri": "https://localhost:8080/"
        },
        "id": "pMo3tgegbwzC",
        "outputId": "91231853-c9d2-47a7-c486-9478907eae93"
      },
      "execution_count": 57,
      "outputs": [
        {
          "output_type": "execute_result",
          "data": {
            "text/plain": [
              "<generator object Module.named_parameters at 0x7f30ce46fe50>"
            ]
          },
          "metadata": {},
          "execution_count": 57
        }
      ]
    },
    {
      "cell_type": "code",
      "source": [
        "model_0.state_dict()"
      ],
      "metadata": {
        "colab": {
          "base_uri": "https://localhost:8080/"
        },
        "id": "e9m9cbPpcCit",
        "outputId": "ce27440c-8b26-4425-d26b-c764862cf8e0"
      },
      "execution_count": 56,
      "outputs": [
        {
          "output_type": "execute_result",
          "data": {
            "text/plain": [
              "OrderedDict([('weights', tensor([0.3367])), ('bias', tensor([0.1288]))])"
            ]
          },
          "metadata": {},
          "execution_count": 56
        }
      ]
    },
    {
      "cell_type": "code",
      "source": [
        "with torch.inference_mode():\n",
        "  y_preds=model_0(X_test)"
      ],
      "metadata": {
        "id": "_v0jk5qXpwYG"
      },
      "execution_count": 63,
      "outputs": []
    },
    {
      "cell_type": "code",
      "source": [
        "y_preds"
      ],
      "metadata": {
        "colab": {
          "base_uri": "https://localhost:8080/"
        },
        "id": "b8Pprl5S0Vbd",
        "outputId": "93942f80-3310-414c-e50b-fb057ed330a6"
      },
      "execution_count": 64,
      "outputs": [
        {
          "output_type": "execute_result",
          "data": {
            "text/plain": [
              "tensor([[0.3982],\n",
              "        [0.4049],\n",
              "        [0.4116],\n",
              "        [0.4184],\n",
              "        [0.4251],\n",
              "        [0.4318],\n",
              "        [0.4386],\n",
              "        [0.4453],\n",
              "        [0.4520],\n",
              "        [0.4588]])"
            ]
          },
          "metadata": {},
          "execution_count": 64
        }
      ]
    },
    {
      "cell_type": "code",
      "source": [
        "\n",
        "loss_fn=nn.L1Loss()\n",
        "optimizer=torch.optim.SGD(params=model_0.parameters(),lr=0.01)\n",
        "\n"
      ],
      "metadata": {
        "id": "HSAgDs1f0ZSw"
      },
      "execution_count": 83,
      "outputs": []
    },
    {
      "cell_type": "code",
      "source": [
        "epochs_count=[]\n",
        "train_loss=[]\n",
        "test_loss_=[]\n",
        "\n",
        "torch.manual_seed(42)\n",
        "epochs=100\n",
        "for epoch in range(epochs):\n",
        "  model_0.train()\n",
        "  y_preds=model_0(X_train)\n",
        "  loss=loss_fn(y_preds,y_train)\n",
        "  optimizer.zero_grad()\n",
        "  loss.backward()\n",
        "  optimizer.step()\n",
        "\n",
        "  model_0.eval()\n",
        "  with torch.inference_mode():\n",
        "    test_preds=model_0(X_test)\n",
        "    test_loss=loss_fn(test_preds,y_test.type(torch.float))\n",
        "  \n",
        "    if epoch%10==0:\n",
        "      epochs_count.append(epoch)\n",
        "      train_loss.append(loss.detach().numpy())\n",
        "      test_loss_.append(test_loss.detach().numpy())\n",
        "      print(f\"epoch: {epoch}   'MAE train_loss '  {loss}  'MAE test_loss:' {test_loss}\")\n",
        "\n",
        "\n"
      ],
      "metadata": {
        "colab": {
          "base_uri": "https://localhost:8080/"
        },
        "id": "6BZPFha01Sjw",
        "outputId": "6ef0eab9-232d-4549-89d6-5d91fdbc1f58"
      },
      "execution_count": 84,
      "outputs": [
        {
          "output_type": "stream",
          "name": "stdout",
          "text": [
            "epoch: 0   'MAE train_loss '  0.31288138031959534  'MAE test_loss:' 0.48106518387794495\n",
            "epoch: 10   'MAE train_loss '  0.1976713240146637  'MAE test_loss:' 0.3463551998138428\n",
            "epoch: 20   'MAE train_loss '  0.08908725529909134  'MAE test_loss:' 0.21729660034179688\n",
            "epoch: 30   'MAE train_loss '  0.053148526698350906  'MAE test_loss:' 0.14464017748832703\n",
            "epoch: 40   'MAE train_loss '  0.04543796554207802  'MAE test_loss:' 0.11360953003168106\n",
            "epoch: 50   'MAE train_loss '  0.04167863354086876  'MAE test_loss:' 0.09919948130846024\n",
            "epoch: 60   'MAE train_loss '  0.03818932920694351  'MAE test_loss:' 0.08886633068323135\n",
            "epoch: 70   'MAE train_loss '  0.03476089984178543  'MAE test_loss:' 0.0805937647819519\n",
            "epoch: 80   'MAE train_loss '  0.03132382780313492  'MAE test_loss:' 0.07232122868299484\n",
            "epoch: 90   'MAE train_loss '  0.02788739837706089  'MAE test_loss:' 0.06473556160926819\n"
          ]
        }
      ]
    },
    {
      "cell_type": "code",
      "source": [
        "# Plot the loss curves\n",
        "plt.plot(epochs_count, train_loss, label=\"Train loss\")\n",
        "plt.plot(epochs_count, test_loss_, label=\"Test loss\")\n",
        "plt.title(\"Training and test loss curves\")\n",
        "plt.ylabel(\"Loss\")\n",
        "plt.xlabel(\"Epochs\")\n",
        "plt.legend();"
      ],
      "metadata": {
        "colab": {
          "base_uri": "https://localhost:8080/",
          "height": 295
        },
        "id": "nirjCSBo4r0c",
        "outputId": "f7119b25-1098-4f04-c342-560eac181565"
      },
      "execution_count": 85,
      "outputs": [
        {
          "output_type": "display_data",
          "data": {
            "text/plain": [
              "<Figure size 432x288 with 1 Axes>"
            ],
            "image/png": "[encoded data removed]"
          },
          "metadata": {
            "needs_background": "light"
          }
        }
      ]
    },
    {
      "cell_type": "code",
      "source": [],
      "metadata": {
        "id": "5I-dlUan5b62"
      },
      "execution_count": 85,
      "outputs": []
    },
    {
      "cell_type": "code",
      "source": [
        "model_0.state_dict()"
      ],
      "metadata": {
        "colab": {
          "base_uri": "https://localhost:8080/"
        },
        "id": "TJip1_-o5vNJ",
        "outputId": "281c38a4-96fa-4349-ad8c-dc4003ae9999"
      },
      "execution_count": 88,
      "outputs": [
        {
          "output_type": "execute_result",
          "data": {
            "text/plain": [
              "OrderedDict([('weights', tensor([0.5784])), ('bias', tensor([0.3513]))])"
            ]
          },
          "metadata": {},
          "execution_count": 88
        }
      ]
    },
    {
      "cell_type": "code",
      "source": [
        "epochs_count=[]\n",
        "train_loss=[]\n",
        "test_loss_=[]\n",
        "\n",
        "torch.manual_seed(42)\n",
        "epochs=250\n",
        "for epoch in range(epochs):\n",
        "  model_0.train()\n",
        "  y_preds=model_0(X_train)\n",
        "  loss=loss_fn(y_preds,y_train)\n",
        "  optimizer.zero_grad()\n",
        "  loss.backward()\n",
        "  optimizer.step()\n",
        "\n",
        "  model_0.eval()\n",
        "  with torch.inference_mode():\n",
        "    test_preds=model_0(X_test)\n",
        "    test_loss=loss_fn(test_preds,y_test.type(torch.float))\n",
        "  \n",
        "    if epoch%10==0:\n",
        "      epochs_count.append(epoch)\n",
        "      train_loss.append(loss.detach().numpy())\n",
        "      test_loss_.append(test_loss.detach().numpy())\n",
        "      print(f\"epoch: {epoch}   'MAE train_loss '  {loss}  'MAE test_loss:' {test_loss}\")\n",
        "\n",
        "\n"
      ],
      "metadata": {
        "colab": {
          "base_uri": "https://localhost:8080/"
        },
        "id": "tpfU5Qj755IG",
        "outputId": "993a31c8-cc16-4454-838c-9dc9c25dea92"
      },
      "execution_count": 89,
      "outputs": [
        {
          "output_type": "stream",
          "name": "stdout",
          "text": [
            "epoch: 0   'MAE train_loss '  0.024458957836031914  'MAE test_loss:' 0.05646304413676262\n",
            "epoch: 10   'MAE train_loss '  0.021020207554101944  'MAE test_loss:' 0.04819049686193466\n",
            "epoch: 20   'MAE train_loss '  0.01758546568453312  'MAE test_loss:' 0.04060482233762741\n",
            "epoch: 30   'MAE train_loss '  0.014155393466353416  'MAE test_loss:' 0.03233227878808975\n",
            "epoch: 40   'MAE train_loss '  0.010716589167714119  'MAE test_loss:' 0.024059748277068138\n",
            "epoch: 50   'MAE train_loss '  0.0072835334576666355  'MAE test_loss:' 0.016474086791276932\n",
            "epoch: 60   'MAE train_loss '  0.0038517764769494534  'MAE test_loss:' 0.008201557211577892\n",
            "epoch: 70   'MAE train_loss '  0.008932482451200485  'MAE test_loss:' 0.005023092031478882\n",
            "epoch: 80   'MAE train_loss '  0.008932482451200485  'MAE test_loss:' 0.005023092031478882\n",
            "epoch: 90   'MAE train_loss '  0.008932482451200485  'MAE test_loss:' 0.005023092031478882\n",
            "epoch: 100   'MAE train_loss '  0.008932482451200485  'MAE test_loss:' 0.005023092031478882\n",
            "epoch: 110   'MAE train_loss '  0.008932482451200485  'MAE test_loss:' 0.005023092031478882\n",
            "epoch: 120   'MAE train_loss '  0.008932482451200485  'MAE test_loss:' 0.005023092031478882\n",
            "epoch: 130   'MAE train_loss '  0.008932482451200485  'MAE test_loss:' 0.005023092031478882\n",
            "epoch: 140   'MAE train_loss '  0.008932482451200485  'MAE test_loss:' 0.005023092031478882\n",
            "epoch: 150   'MAE train_loss '  0.008932482451200485  'MAE test_loss:' 0.005023092031478882\n",
            "epoch: 160   'MAE train_loss '  0.008932482451200485  'MAE test_loss:' 0.005023092031478882\n",
            "epoch: 170   'MAE train_loss '  0.008932482451200485  'MAE test_loss:' 0.005023092031478882\n",
            "epoch: 180   'MAE train_loss '  0.008932482451200485  'MAE test_loss:' 0.005023092031478882\n",
            "epoch: 190   'MAE train_loss '  0.008932482451200485  'MAE test_loss:' 0.005023092031478882\n",
            "epoch: 200   'MAE train_loss '  0.008932482451200485  'MAE test_loss:' 0.005023092031478882\n",
            "epoch: 210   'MAE train_loss '  0.008932482451200485  'MAE test_loss:' 0.005023092031478882\n",
            "epoch: 220   'MAE train_loss '  0.008932482451200485  'MAE test_loss:' 0.005023092031478882\n",
            "epoch: 230   'MAE train_loss '  0.008932482451200485  'MAE test_loss:' 0.005023092031478882\n",
            "epoch: 240   'MAE train_loss '  0.008932482451200485  'MAE test_loss:' 0.005023092031478882\n"
          ]
        }
      ]
    },
    {
      "cell_type": "code",
      "source": [
        "# Plot the loss curves\n",
        "plt.plot(epochs_count, train_loss, label=\"Train loss\")\n",
        "plt.plot(epochs_count, test_loss_, label=\"Test loss\")\n",
        "plt.title(\"Training and test loss curves\")\n",
        "plt.ylabel(\"Loss\")\n",
        "plt.xlabel(\"Epochs\")\n",
        "plt.legend();"
      ],
      "metadata": {
        "colab": {
          "base_uri": "https://localhost:8080/",
          "height": 295
        },
        "id": "HF_j7J4A6Xoy",
        "outputId": "4e593dc9-9733-4fb0-9ead-c8aa93af7a89"
      },
      "execution_count": 90,
      "outputs": [
        {
          "output_type": "display_data",
          "data": {
            "text/plain": [
              "<Figure size 432x288 with 1 Axes>"
            ],
            "image/png": "[encoded data removed]"
          },
          "metadata": {
            "needs_background": "light"
          }
        }
      ]
    },
    {
      "cell_type": "code",
      "source": [
        "model_0.eval()\n",
        "with torch.inference_mode():\n",
        "  y_preds=model_0(X_test)\n",
        "\n",
        "# plot_predictions(y_preds)\n",
        "y_preds"
      ],
      "metadata": {
        "colab": {
          "base_uri": "https://localhost:8080/"
        },
        "id": "InvfeLsv6aDo",
        "outputId": "cbb73f4c-c200-4f6b-e743-72d85ae94073"
      },
      "execution_count": 94,
      "outputs": [
        {
          "output_type": "execute_result",
          "data": {
            "text/plain": [
              "tensor([[0.8685],\n",
              "        [0.8825],\n",
              "        [0.8965],\n",
              "        [0.9105],\n",
              "        [0.9245],\n",
              "        [0.9384],\n",
              "        [0.9524],\n",
              "        [0.9664],\n",
              "        [0.9804],\n",
              "        [0.9944]])"
            ]
          },
          "metadata": {},
          "execution_count": 94
        }
      ]
    },
    {
      "cell_type": "code",
      "source": [
        "plot_predictions(predictions=y_preds)"
      ],
      "metadata": {
        "colab": {
          "base_uri": "https://localhost:8080/",
          "height": 592
        },
        "id": "Ba-xj0zn6kjx",
        "outputId": "2a9a544e-6170-4ccc-fd8a-e74a56fdc69c"
      },
      "execution_count": 95,
      "outputs": [
        {
          "output_type": "display_data",
          "data": {
            "text/plain": [
              "<Figure size 1152x720 with 1 Axes>"
            ],
            "image/png": "[encoded data removed]"
          },
          "metadata": {
            "needs_background": "light"
          }
        }
      ]
    },
    {
      "cell_type": "code",
      "source": [
        "#save the model\n",
        "\n",
        "from pathlib import Path\n",
        "\n",
        "model_path=Path('Model')\n",
        "\n",
        "model_path.mkdir(parents=True,exist_ok=True)\n",
        "\n",
        "model_name='pytorch_1.pth'\n",
        "model_save_path=model_path/model_name\n",
        "\n",
        "torch.save(obj=model_0.state_dict(),f=model_save_path)"
      ],
      "metadata": {
        "id": "eKsHHzgD6-9a"
      },
      "execution_count": 96,
      "outputs": []
    },
    {
      "cell_type": "code",
      "source": [],
      "metadata": {
        "id": "WJY-vwi77qqX"
      },
      "execution_count": null,
      "outputs": []
    }
  ]
}